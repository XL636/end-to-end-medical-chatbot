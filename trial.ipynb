{
 "cells": [
  {
   "cell_type": "code",
   "execution_count": 42,
   "metadata": {},
   "outputs": [],
   "source": [
    "from langchain.chains import RetrievalQA\n",
    "from langchain.embeddings import HuggingFaceEmbeddings\n",
    "import pinecone\n",
    "from langchain.document_loaders import PyMuPDFLoader, PyPDFLoader, DirectoryLoader\n",
    "from langchain.text_splitter import RecursiveCharacterTextSplitter\n",
    "from langchain.prompts import PromptTemplate\n",
    "from langchain.llms import CTransformers\n",
    "from langchain_openai import OpenAIEmbeddings\n",
    "from dotenv import load_dotenv\n",
    "from langchain_openai import ChatOpenAI\n",
    "import os"
   ]
  },
  {
   "cell_type": "code",
   "execution_count": 17,
   "metadata": {},
   "outputs": [
    {
     "data": {
      "text/plain": [
       "True"
      ]
     },
     "execution_count": 17,
     "metadata": {},
     "output_type": "execute_result"
    }
   ],
   "source": [
    "load_dotenv()"
   ]
  },
  {
   "cell_type": "code",
   "execution_count": 18,
   "metadata": {},
   "outputs": [],
   "source": [
    "PINECONE_API_KEY = os.getenv(\"PINECONE_API_KEY\")\n",
    "OPENAI_API_KEY = os.getenv(\"OPENAI_API_KEY\")"
   ]
  },
  {
   "cell_type": "code",
   "execution_count": 19,
   "metadata": {},
   "outputs": [],
   "source": [
    "# Extract data from the pdf\n",
    "def load_pdf(data):\n",
    "    loader = DirectoryLoader(\n",
    "        data,\n",
    "        glob=\"*.pdf\",\n",
    "        loader_cls= PyPDFLoader\n",
    "    )\n",
    "    documents = loader.load()\n",
    "    return documents"
   ]
  },
  {
   "cell_type": "code",
   "execution_count": 20,
   "metadata": {},
   "outputs": [],
   "source": [
    "extract_data = load_pdf(\"data/\")"
   ]
  },
  {
   "cell_type": "code",
   "execution_count": 21,
   "metadata": {},
   "outputs": [
    {
     "data": {
      "text/plain": [
       "637"
      ]
     },
     "execution_count": 21,
     "metadata": {},
     "output_type": "execute_result"
    }
   ],
   "source": [
    "len(extract_data)"
   ]
  },
  {
   "cell_type": "code",
   "execution_count": 22,
   "metadata": {},
   "outputs": [],
   "source": [
    "# split text into chunks\n",
    "def text_split(extracted_data):\n",
    "   #set chunk size and lap\n",
    "   text_splitter =  RecursiveCharacterTextSplitter(chunk_size=500, chunk_overlap=20)\n",
    "   # start to split data base on text_splitter\n",
    "   text_chunks = text_splitter.split_documents(extracted_data)\n",
    "\n",
    "   return text_chunks"
   ]
  },
  {
   "cell_type": "code",
   "execution_count": 23,
   "metadata": {},
   "outputs": [
    {
     "data": {
      "text/plain": [
       "5860"
      ]
     },
     "execution_count": 23,
     "metadata": {},
     "output_type": "execute_result"
    }
   ],
   "source": [
    "chunks = text_split(extract_data)\n",
    "len(chunks)"
   ]
  },
  {
   "cell_type": "code",
   "execution_count": 24,
   "metadata": {},
   "outputs": [],
   "source": [
    "# download embedding\n",
    "def download_OpenAIEmbedings():\n",
    "    embeddings = OpenAIEmbeddings()\n",
    "    return embeddings"
   ]
  },
  {
   "cell_type": "code",
   "execution_count": 25,
   "metadata": {},
   "outputs": [
    {
     "data": {
      "text/plain": [
       "OpenAIEmbeddings(client=<openai.resources.embeddings.Embeddings object at 0x0000023FC61F9970>, async_client=<openai.resources.embeddings.AsyncEmbeddings object at 0x0000023FC62C7970>, model='text-embedding-ada-002', dimensions=None, deployment='text-embedding-ada-002', openai_api_version=None, openai_api_base=None, openai_api_type=None, openai_proxy=None, embedding_ctx_length=8191, openai_api_key=SecretStr('**********'), openai_organization=None, allowed_special=None, disallowed_special=None, chunk_size=1000, max_retries=2, request_timeout=None, headers=None, tiktoken_enabled=True, tiktoken_model_name=None, show_progress_bar=False, model_kwargs={}, skip_empty=False, default_headers=None, default_query=None, retry_min_seconds=4, retry_max_seconds=20, http_client=None, http_async_client=None, check_embedding_ctx_length=True)"
      ]
     },
     "execution_count": 25,
     "metadata": {},
     "output_type": "execute_result"
    }
   ],
   "source": [
    "embeddings = download_OpenAIEmbedings()\n",
    "embeddings"
   ]
  },
  {
   "cell_type": "code",
   "execution_count": 26,
   "metadata": {},
   "outputs": [
    {
     "data": {
      "text/plain": [
       "1536"
      ]
     },
     "execution_count": 26,
     "metadata": {},
     "output_type": "execute_result"
    }
   ],
   "source": [
    "query_result = embeddings.embed_query('Hello world')\n",
    "len(query_result)"
   ]
  },
  {
   "cell_type": "code",
   "execution_count": 27,
   "metadata": {},
   "outputs": [],
   "source": [
    "from pinecone import Pinecone\n",
    "pc = Pinecone(api_key=PINECONE_API_KEY)\n",
    "index = pc.Index(\"mchatbot\")"
   ]
  },
  {
   "cell_type": "code",
   "execution_count": 28,
   "metadata": {},
   "outputs": [
    {
     "data": {
      "text/plain": [
       "Document(metadata={'source': 'data\\\\Medical_book.pdf', 'page': 1}, page_content='The GALE\\nENCYCLOPEDIA\\nof MEDICINE\\nSECOND EDITION')"
      ]
     },
     "execution_count": 28,
     "metadata": {},
     "output_type": "execute_result"
    }
   ],
   "source": [
    "chunks[0]"
   ]
  },
  {
   "cell_type": "code",
   "execution_count": 29,
   "metadata": {},
   "outputs": [],
   "source": [
    "def pinecone_upsert(chunks,embeddings):\n",
    "    vectors = []\n",
    "    for i, chunk in enumerate(chunks):\n",
    "        text = chunk.page_content\n",
    "        values = embeddings.embed_query(text)\n",
    "        metadata = chunk.metadata\n",
    "        metadata[\"text\"]=text\n",
    "        vector_data ={\n",
    "            \"id\":f\"chunk{i}\",\n",
    "            \"values\":values,\n",
    "            \"metadata\":metadata\n",
    "        }\n",
    "        vectors.append(vector_data)\n",
    "    return vectors\n",
    "        "
   ]
  },
  {
   "cell_type": "code",
   "execution_count": 30,
   "metadata": {},
   "outputs": [],
   "source": [
    "#vectors_data = pinecone_upsert(chunks=chunks, embeddings=embeddings)"
   ]
  },
  {
   "cell_type": "code",
   "execution_count": 31,
   "metadata": {},
   "outputs": [],
   "source": [
    "#len(vectors_data)"
   ]
  },
  {
   "cell_type": "code",
   "execution_count": 32,
   "metadata": {},
   "outputs": [
    {
     "data": {
      "text/plain": [
       "\" batch_size = 150\\nfor i in range(0, len(vectors_data), batch_size):\\n    batch = vectors_data[i : i + batch_size]\\n    index.upsert(vectors=batch, namespace='ns1')\""
      ]
     },
     "execution_count": 32,
     "metadata": {},
     "output_type": "execute_result"
    }
   ],
   "source": [
    "''' batch_size = 150\n",
    "for i in range(0, len(vectors_data), batch_size):\n",
    "    batch = vectors_data[i : i + batch_size]\n",
    "    index.upsert(vectors=batch, namespace='ns1')'''"
   ]
  },
  {
   "cell_type": "code",
   "execution_count": 33,
   "metadata": {},
   "outputs": [
    {
     "data": {
      "text/plain": [
       "'def query_pinecone(index,question,embeddings):\\n    question_embed = embeddings.embed_query(question)\\n    result = index.query(\\n    namespace = \"ns1\",\\n    vector = question_embed,\\n    top_k = 2,\\n    include_value = False,\\n    include_metadata = True\\n)\\n    return result\\n    this is official query from pinecone website\\n    '"
      ]
     },
     "execution_count": 33,
     "metadata": {},
     "output_type": "execute_result"
    }
   ],
   "source": [
    "'''def query_pinecone(index,question,embeddings):\n",
    "    question_embed = embeddings.embed_query(question)\n",
    "    result = index.query(\n",
    "    namespace = \"ns1\",\n",
    "    vector = question_embed,\n",
    "    top_k = 2,\n",
    "    include_value = False,\n",
    "    include_metadata = True\n",
    ")\n",
    "    return result\n",
    "    this is official query from pinecone website\n",
    "    '''"
   ]
  },
  {
   "cell_type": "code",
   "execution_count": 34,
   "metadata": {},
   "outputs": [],
   "source": [
    "from langchain_pinecone import Pinecone"
   ]
  },
  {
   "cell_type": "code",
   "execution_count": 35,
   "metadata": {},
   "outputs": [
    {
     "data": {
      "text/plain": [
       "'\\nvectorstore = Pinecone(\\n    index=index,                     \\n    embedding=embeddings,\\n    text_key=\"text\"\\n)\\n'"
      ]
     },
     "execution_count": 35,
     "metadata": {},
     "output_type": "execute_result"
    }
   ],
   "source": [
    "'''\n",
    "vectorstore = Pinecone(\n",
    "    index=index,                     \n",
    "    embedding=embeddings,\n",
    "    text_key=\"text\"\n",
    ")\n",
    "'''"
   ]
  },
  {
   "cell_type": "code",
   "execution_count": 36,
   "metadata": {},
   "outputs": [],
   "source": [
    "docsearch = Pinecone.from_existing_index(\n",
    "    index_name=\"mchatbot\",\n",
    "    embedding=embeddings,\n",
    "    namespace=\"ns1\",  \n",
    "    text_key=\"text\"\n",
    "    )"
   ]
  },
  {
   "cell_type": "code",
   "execution_count": 48,
   "metadata": {},
   "outputs": [],
   "source": [
    "query = \"What are Allergies\""
   ]
  },
  {
   "cell_type": "code",
   "execution_count": 50,
   "metadata": {},
   "outputs": [
    {
     "data": {
      "text/plain": [
       "[Document(metadata={'page': 128.0, 'source': 'data\\\\Medical_book.pdf'}, page_content='Description\\nAllergies are among the most common of medical\\ndisorders. It is estimated that 60 million Americans, or\\nmore than one in every five people, suffer from some\\nform of allergy, with similar proportions throughout\\nmuch of the rest of the world. Allergy is the single largest\\nreason for school absence and is a major source of lost\\nproductivity in the workplace.\\nAn allergy is a type of immune reaction. Normally,\\nthe immune system responds to foreign microorganisms'),\n",
       " Document(metadata={'page': 127.0, 'source': 'data\\\\Medical_book.pdf'}, page_content='1995.\\nNovick, N. L. You Can Do Something About Your Allergies.\\nNew York: Macmillan, 1994.\\nWeil, A. Natural Health, Natural Medicine: A Comprehensive\\nManual for Wellness and Self-Care.New York: Houghton\\nMifflin, 1995.\\nRichard Robinson\\nAllergies\\nDefinition\\nAllergies are abnormal reactions of the immune sys-\\ntem that occur in response to otherwise harmless sub-\\nstances.\\nGALE ENCYCLOPEDIA OF MEDICINE 2114\\nAllergies\\nGEM - 0001 to 0432 - A  10/22/03 1:42 PM  Page 114'),\n",
       " Document(metadata={'page': 135.0, 'source': 'data\\\\Medical_book.pdf'}, page_content='Purpose\\nAllergy is a reaction of the immune system. Nor-\\nmally, the immune system responds to foreign microor-\\nganisms and particles, like pollen or dust, by producing\\nspecific proteins called antibodies that are capable of\\nbinding to identifying molecules, or antigens, on the\\nforeign organisms. This reaction between antibody and\\nantigen sets off a series of reactions designed to protect\\nthe body from infection. Sometimes, this same series of')]"
      ]
     },
     "execution_count": 50,
     "metadata": {},
     "output_type": "execute_result"
    }
   ],
   "source": [
    "docs=docsearch.similarity_search(query, k=3)\n",
    "docs"
   ]
  },
  {
   "cell_type": "code",
   "execution_count": 43,
   "metadata": {},
   "outputs": [],
   "source": [
    "llm=ChatOpenAI(model_name = 'gpt-4.5-preview')"
   ]
  },
  {
   "cell_type": "code",
   "execution_count": 56,
   "metadata": {},
   "outputs": [],
   "source": [
    "from langchain.chains import RetrievalQA\n",
    "from langchain.llms import OpenAI\n",
    "qa = RetrievalQA.from_chain_type(\n",
    "    llm=llm, \n",
    "    chain_type=\"stuff\", \n",
    "    retriever=docsearch.as_retriever(search_kwargs={'k': 2}),\n",
    "    return_source_documents=True)\n"
   ]
  },
  {
   "cell_type": "code",
   "execution_count": 53,
   "metadata": {},
   "outputs": [
    {
     "data": {
      "text/plain": [
       "{'query': 'What are Allergies ',\n",
       " 'result': 'Allergies are abnormal reactions of the immune system that occur in response to otherwise harmless substances. Normally, the immune system protects the body by responding to harmful foreign microorganisms. However, in people with allergies, the immune system mistakenly identifies harmless substances, known as allergens, as threats, triggering an unnecessary immune response. Allergies are among the most common medical disorders, affecting millions worldwide, and are a significant cause of missed school days and reduced workplace productivity.',\n",
       " 'source_documents': [Document(metadata={'page': 128.0, 'source': 'data\\\\Medical_book.pdf'}, page_content='Description\\nAllergies are among the most common of medical\\ndisorders. It is estimated that 60 million Americans, or\\nmore than one in every five people, suffer from some\\nform of allergy, with similar proportions throughout\\nmuch of the rest of the world. Allergy is the single largest\\nreason for school absence and is a major source of lost\\nproductivity in the workplace.\\nAn allergy is a type of immune reaction. Normally,\\nthe immune system responds to foreign microorganisms'),\n",
       "  Document(metadata={'page': 127.0, 'source': 'data\\\\Medical_book.pdf'}, page_content='1995.\\nNovick, N. L. You Can Do Something About Your Allergies.\\nNew York: Macmillan, 1994.\\nWeil, A. Natural Health, Natural Medicine: A Comprehensive\\nManual for Wellness and Self-Care.New York: Houghton\\nMifflin, 1995.\\nRichard Robinson\\nAllergies\\nDefinition\\nAllergies are abnormal reactions of the immune sys-\\ntem that occur in response to otherwise harmless sub-\\nstances.\\nGALE ENCYCLOPEDIA OF MEDICINE 2114\\nAllergies\\nGEM - 0001 to 0432 - A  10/22/03 1:42 PM  Page 114')]}"
      ]
     },
     "execution_count": 53,
     "metadata": {},
     "output_type": "execute_result"
    }
   ],
   "source": [
    "qa.invoke(\"What are Allergies \")"
   ]
  },
  {
   "cell_type": "code",
   "execution_count": 57,
   "metadata": {},
   "outputs": [],
   "source": [
    "user_input = input(f\"input prompt:\")\n",
    "result = qa.invoke(user_input)"
   ]
  },
  {
   "cell_type": "code",
   "execution_count": 59,
   "metadata": {},
   "outputs": [
    {
     "name": "stdout",
     "output_type": "stream",
     "text": [
      "Allergies are reactions of the immune system in response to certain foreign substances, known as allergens, such as pollen, dust, pet dander, or certain foods. Normally, the immune system helps protect the body by producing specific proteins called antibodies to identify and neutralize harmful microorganisms or particles. However, in the case of allergies, the immune system mistakenly identifies harmless substances as threats, triggering an exaggerated immune response. This reaction results in various symptoms, including sneezing, itching, swelling, runny nose, watery eyes, skin rashes, or even more severe reactions like difficulty breathing. Allergies are very common and affect millions of people worldwide, significantly impacting daily activities, school attendance, work productivity, and overall quality of life.\n"
     ]
    }
   ],
   "source": [
    "print(result['result'])"
   ]
  }
 ],
 "metadata": {
  "kernelspec": {
   "display_name": "mchatbot",
   "language": "python",
   "name": "python3"
  },
  "language_info": {
   "codemirror_mode": {
    "name": "ipython",
    "version": 3
   },
   "file_extension": ".py",
   "mimetype": "text/x-python",
   "name": "python",
   "nbconvert_exporter": "python",
   "pygments_lexer": "ipython3",
   "version": "3.8.20"
  }
 },
 "nbformat": 4,
 "nbformat_minor": 2
}
